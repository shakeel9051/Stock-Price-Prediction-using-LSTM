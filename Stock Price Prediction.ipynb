{
 "cells": [
  {
   "cell_type": "code",
   "execution_count": 1,
   "id": "da8ce089",
   "metadata": {},
   "outputs": [],
   "source": [
    "import pandas as pd\n",
    "import numpy as np\n",
    "\n",
    "import matplotlib.pyplot as plt\n",
    "%matplotlib inline\n",
    "\n",
    "from sklearn.preprocessing import MinMaxScaler\n",
    "\n",
    "import keras \n",
    "from keras.models import Sequential\n",
    "from keras.layers import LSTM,Dropout,Dense"
   ]
  },
  {
   "cell_type": "code",
   "execution_count": 3,
   "id": "026ad420",
   "metadata": {},
   "outputs": [],
   "source": [
    "df=pd.read_csv('ITC.NSE.csv')"
   ]
  },
  {
   "cell_type": "code",
   "execution_count": 4,
   "id": "ef1e9cfc",
   "metadata": {},
   "outputs": [
    {
     "data": {
      "text/html": [
       "<div>\n",
       "<style scoped>\n",
       "    .dataframe tbody tr th:only-of-type {\n",
       "        vertical-align: middle;\n",
       "    }\n",
       "\n",
       "    .dataframe tbody tr th {\n",
       "        vertical-align: top;\n",
       "    }\n",
       "\n",
       "    .dataframe thead th {\n",
       "        text-align: right;\n",
       "    }\n",
       "</style>\n",
       "<table border=\"1\" class=\"dataframe\">\n",
       "  <thead>\n",
       "    <tr style=\"text-align: right;\">\n",
       "      <th></th>\n",
       "      <th>Date</th>\n",
       "      <th>Open</th>\n",
       "      <th>High</th>\n",
       "      <th>Low</th>\n",
       "      <th>Close</th>\n",
       "      <th>Adj Close</th>\n",
       "      <th>Volume</th>\n",
       "    </tr>\n",
       "  </thead>\n",
       "  <tbody>\n",
       "    <tr>\n",
       "      <th>0</th>\n",
       "      <td>1996-01-01</td>\n",
       "      <td>5.55000</td>\n",
       "      <td>5.60000</td>\n",
       "      <td>5.53333</td>\n",
       "      <td>5.58333</td>\n",
       "      <td>0.000079</td>\n",
       "      <td>985500.0</td>\n",
       "    </tr>\n",
       "    <tr>\n",
       "      <th>1</th>\n",
       "      <td>1996-01-02</td>\n",
       "      <td>5.46667</td>\n",
       "      <td>5.56667</td>\n",
       "      <td>5.28889</td>\n",
       "      <td>5.37222</td>\n",
       "      <td>0.000076</td>\n",
       "      <td>7470000.0</td>\n",
       "    </tr>\n",
       "    <tr>\n",
       "      <th>2</th>\n",
       "      <td>1996-01-03</td>\n",
       "      <td>5.13333</td>\n",
       "      <td>5.25444</td>\n",
       "      <td>5.10111</td>\n",
       "      <td>5.20000</td>\n",
       "      <td>0.000074</td>\n",
       "      <td>15160500.0</td>\n",
       "    </tr>\n",
       "    <tr>\n",
       "      <th>3</th>\n",
       "      <td>1996-01-04</td>\n",
       "      <td>5.20000</td>\n",
       "      <td>5.33222</td>\n",
       "      <td>5.14444</td>\n",
       "      <td>5.29778</td>\n",
       "      <td>0.000075</td>\n",
       "      <td>12397500.0</td>\n",
       "    </tr>\n",
       "    <tr>\n",
       "      <th>4</th>\n",
       "      <td>1996-01-05</td>\n",
       "      <td>5.29778</td>\n",
       "      <td>5.27778</td>\n",
       "      <td>5.18889</td>\n",
       "      <td>5.20222</td>\n",
       "      <td>0.000074</td>\n",
       "      <td>5008500.0</td>\n",
       "    </tr>\n",
       "  </tbody>\n",
       "</table>\n",
       "</div>"
      ],
      "text/plain": [
       "         Date     Open     High      Low    Close  Adj Close      Volume\n",
       "0  1996-01-01  5.55000  5.60000  5.53333  5.58333   0.000079    985500.0\n",
       "1  1996-01-02  5.46667  5.56667  5.28889  5.37222   0.000076   7470000.0\n",
       "2  1996-01-03  5.13333  5.25444  5.10111  5.20000   0.000074  15160500.0\n",
       "3  1996-01-04  5.20000  5.33222  5.14444  5.29778   0.000075  12397500.0\n",
       "4  1996-01-05  5.29778  5.27778  5.18889  5.20222   0.000074   5008500.0"
      ]
     },
     "execution_count": 4,
     "metadata": {},
     "output_type": "execute_result"
    }
   ],
   "source": [
    "df.head()"
   ]
  },
  {
   "cell_type": "code",
   "execution_count": 5,
   "id": "7a1c9043",
   "metadata": {},
   "outputs": [
    {
     "data": {
      "text/html": [
       "<div>\n",
       "<style scoped>\n",
       "    .dataframe tbody tr th:only-of-type {\n",
       "        vertical-align: middle;\n",
       "    }\n",
       "\n",
       "    .dataframe tbody tr th {\n",
       "        vertical-align: top;\n",
       "    }\n",
       "\n",
       "    .dataframe thead th {\n",
       "        text-align: right;\n",
       "    }\n",
       "</style>\n",
       "<table border=\"1\" class=\"dataframe\">\n",
       "  <thead>\n",
       "    <tr style=\"text-align: right;\">\n",
       "      <th></th>\n",
       "      <th>Date</th>\n",
       "      <th>Open</th>\n",
       "      <th>High</th>\n",
       "      <th>Low</th>\n",
       "      <th>Close</th>\n",
       "      <th>Adj Close</th>\n",
       "      <th>Volume</th>\n",
       "    </tr>\n",
       "  </thead>\n",
       "  <tbody>\n",
       "    <tr>\n",
       "      <th>6175</th>\n",
       "      <td>2020-07-01</td>\n",
       "      <td>194.649994</td>\n",
       "      <td>203.850006</td>\n",
       "      <td>194.649994</td>\n",
       "      <td>202.899994</td>\n",
       "      <td>192.977402</td>\n",
       "      <td>44297953.0</td>\n",
       "    </tr>\n",
       "    <tr>\n",
       "      <th>6176</th>\n",
       "      <td>2020-07-02</td>\n",
       "      <td>204.449997</td>\n",
       "      <td>206.750000</td>\n",
       "      <td>202.550003</td>\n",
       "      <td>205.850006</td>\n",
       "      <td>195.783142</td>\n",
       "      <td>39320871.0</td>\n",
       "    </tr>\n",
       "    <tr>\n",
       "      <th>6177</th>\n",
       "      <td>2020-07-03</td>\n",
       "      <td>208.000000</td>\n",
       "      <td>208.500000</td>\n",
       "      <td>206.000000</td>\n",
       "      <td>207.550003</td>\n",
       "      <td>197.400009</td>\n",
       "      <td>37893277.0</td>\n",
       "    </tr>\n",
       "    <tr>\n",
       "      <th>6178</th>\n",
       "      <td>2020-07-06</td>\n",
       "      <td>200.350006</td>\n",
       "      <td>201.949997</td>\n",
       "      <td>198.949997</td>\n",
       "      <td>199.800003</td>\n",
       "      <td>199.800003</td>\n",
       "      <td>34710176.0</td>\n",
       "    </tr>\n",
       "    <tr>\n",
       "      <th>6179</th>\n",
       "      <td>2020-07-07</td>\n",
       "      <td>200.000000</td>\n",
       "      <td>200.500000</td>\n",
       "      <td>194.000000</td>\n",
       "      <td>194.250000</td>\n",
       "      <td>194.250000</td>\n",
       "      <td>31263172.0</td>\n",
       "    </tr>\n",
       "  </tbody>\n",
       "</table>\n",
       "</div>"
      ],
      "text/plain": [
       "            Date        Open        High         Low       Close   Adj Close  \\\n",
       "6175  2020-07-01  194.649994  203.850006  194.649994  202.899994  192.977402   \n",
       "6176  2020-07-02  204.449997  206.750000  202.550003  205.850006  195.783142   \n",
       "6177  2020-07-03  208.000000  208.500000  206.000000  207.550003  197.400009   \n",
       "6178  2020-07-06  200.350006  201.949997  198.949997  199.800003  199.800003   \n",
       "6179  2020-07-07  200.000000  200.500000  194.000000  194.250000  194.250000   \n",
       "\n",
       "          Volume  \n",
       "6175  44297953.0  \n",
       "6176  39320871.0  \n",
       "6177  37893277.0  \n",
       "6178  34710176.0  \n",
       "6179  31263172.0  "
      ]
     },
     "execution_count": 5,
     "metadata": {},
     "output_type": "execute_result"
    }
   ],
   "source": [
    "df.tail()"
   ]
  },
  {
   "cell_type": "code",
   "execution_count": 6,
   "id": "6ee0ff15",
   "metadata": {},
   "outputs": [
    {
     "data": {
      "text/plain": [
       "(6180, 7)"
      ]
     },
     "execution_count": 6,
     "metadata": {},
     "output_type": "execute_result"
    }
   ],
   "source": [
    "df.shape"
   ]
  },
  {
   "cell_type": "code",
   "execution_count": 16,
   "id": "3eef18b1",
   "metadata": {},
   "outputs": [
    {
     "data": {
      "text/plain": [
       "[<matplotlib.lines.Line2D at 0x1fa597a7a50>]"
      ]
     },
     "execution_count": 16,
     "metadata": {},
     "output_type": "execute_result"
    },
    {
     "data": {
      "image/png": "[encoded data removed]",
      "text/plain": [
       "<Figure size 1500x1000 with 1 Axes>"
      ]
     },
     "metadata": {},
     "output_type": "display_data"
    }
   ],
   "source": [
    "df[\"Date\"]=pd.to_datetime(df.Date,format=\"%Y-%m-%d\")\n",
    "df.index=df['Date']\n",
    "\n",
    "plt.figure(figsize=(15,10))\n",
    "plt.title(\"Close price history\")\n",
    "plt.plot(df[\"Close\"])"
   ]
  },
  {
   "cell_type": "code",
   "execution_count": 9,
   "id": "f2f52356",
   "metadata": {},
   "outputs": [
    {
     "data": {
      "text/html": [
       "<div>\n",
       "<style scoped>\n",
       "    .dataframe tbody tr th:only-of-type {\n",
       "        vertical-align: middle;\n",
       "    }\n",
       "\n",
       "    .dataframe tbody tr th {\n",
       "        vertical-align: top;\n",
       "    }\n",
       "\n",
       "    .dataframe thead th {\n",
       "        text-align: right;\n",
       "    }\n",
       "</style>\n",
       "<table border=\"1\" class=\"dataframe\">\n",
       "  <thead>\n",
       "    <tr style=\"text-align: right;\">\n",
       "      <th></th>\n",
       "      <th>Date</th>\n",
       "      <th>Close</th>\n",
       "    </tr>\n",
       "  </thead>\n",
       "  <tbody>\n",
       "    <tr>\n",
       "      <th>0</th>\n",
       "      <td>1996-01-01</td>\n",
       "      <td>5.58333</td>\n",
       "    </tr>\n",
       "    <tr>\n",
       "      <th>1</th>\n",
       "      <td>1996-01-02</td>\n",
       "      <td>5.37222</td>\n",
       "    </tr>\n",
       "    <tr>\n",
       "      <th>2</th>\n",
       "      <td>1996-01-03</td>\n",
       "      <td>5.2</td>\n",
       "    </tr>\n",
       "    <tr>\n",
       "      <th>3</th>\n",
       "      <td>1996-01-04</td>\n",
       "      <td>5.29778</td>\n",
       "    </tr>\n",
       "    <tr>\n",
       "      <th>4</th>\n",
       "      <td>1996-01-05</td>\n",
       "      <td>5.20222</td>\n",
       "    </tr>\n",
       "    <tr>\n",
       "      <th>...</th>\n",
       "      <td>...</td>\n",
       "      <td>...</td>\n",
       "    </tr>\n",
       "    <tr>\n",
       "      <th>6175</th>\n",
       "      <td>2020-07-01</td>\n",
       "      <td>202.899994</td>\n",
       "    </tr>\n",
       "    <tr>\n",
       "      <th>6176</th>\n",
       "      <td>2020-07-02</td>\n",
       "      <td>205.850006</td>\n",
       "    </tr>\n",
       "    <tr>\n",
       "      <th>6177</th>\n",
       "      <td>2020-07-03</td>\n",
       "      <td>207.550003</td>\n",
       "    </tr>\n",
       "    <tr>\n",
       "      <th>6178</th>\n",
       "      <td>2020-07-06</td>\n",
       "      <td>199.800003</td>\n",
       "    </tr>\n",
       "    <tr>\n",
       "      <th>6179</th>\n",
       "      <td>2020-07-07</td>\n",
       "      <td>194.25</td>\n",
       "    </tr>\n",
       "  </tbody>\n",
       "</table>\n",
       "<p>6055 rows × 2 columns</p>\n",
       "</div>"
      ],
      "text/plain": [
       "            Date       Close\n",
       "0     1996-01-01     5.58333\n",
       "1     1996-01-02     5.37222\n",
       "2     1996-01-03         5.2\n",
       "3     1996-01-04     5.29778\n",
       "4     1996-01-05     5.20222\n",
       "...          ...         ...\n",
       "6175  2020-07-01  202.899994\n",
       "6176  2020-07-02  205.850006\n",
       "6177  2020-07-03  207.550003\n",
       "6178  2020-07-06  199.800003\n",
       "6179  2020-07-07      194.25\n",
       "\n",
       "[6055 rows x 2 columns]"
      ]
     },
     "execution_count": 9,
     "metadata": {},
     "output_type": "execute_result"
    }
   ],
   "source": [
    "data=df.sort_index(ascending=True,axis=0)\n",
    "\n",
    "new_dataset=pd.DataFrame(index=range(0,len(df)),columns=[\"Date\",'Close'])\n",
    "\n",
    "for i in range(len(data)):\n",
    "    new_dataset[\"Date\"][i]=data[\"Date\"][i]\n",
    "    new_dataset[\"Close\"][i]=data[\"Close\"][i]\n",
    "    \n",
    "new_dataset=new_dataset.dropna()\n",
    "new_dataset"
   ]
  },
  {
   "cell_type": "code",
   "execution_count": 10,
   "id": "83209169",
   "metadata": {},
   "outputs": [],
   "source": [
    "scaler=MinMaxScaler()\n",
    "\n",
    "final_dataset=new_dataset.values\n",
    "\n",
    "train_data=final_dataset[:4000, :4000]\n",
    "test_data=final_dataset[4000: , 4000:]"
   ]
  },
  {
   "cell_type": "code",
   "execution_count": 11,
   "id": "0925dc48",
   "metadata": {},
   "outputs": [
    {
     "data": {
      "text/plain": [
       "array([[0.0041414 ],\n",
       "       [0.0035174 ],\n",
       "       [0.00300836],\n",
       "       ...,\n",
       "       [0.60111468],\n",
       "       [0.57820722],\n",
       "       [0.56180252]])"
      ]
     },
     "execution_count": 11,
     "metadata": {},
     "output_type": "execute_result"
    }
   ],
   "source": [
    "scaled_data=scaler.fit_transform(final_dataset[:,1:])\n",
    "scaled_data"
   ]
  },
  {
   "cell_type": "code",
   "execution_count": 12,
   "id": "a0a39f83",
   "metadata": {},
   "outputs": [
    {
     "data": {
      "text/plain": [
       "array([[[0.0041414 ],\n",
       "        [0.0035174 ],\n",
       "        [0.00300836],\n",
       "        ...,\n",
       "        [0.00168153],\n",
       "        [0.00187859],\n",
       "        [0.0026241 ]],\n",
       "\n",
       "       [[0.0035174 ],\n",
       "        [0.00300836],\n",
       "        [0.00329737],\n",
       "        ...,\n",
       "        [0.00187859],\n",
       "        [0.0026241 ],\n",
       "        [0.00234496]],\n",
       "\n",
       "       [[0.00300836],\n",
       "        [0.00329737],\n",
       "        [0.00301492],\n",
       "        ...,\n",
       "        [0.0026241 ],\n",
       "        [0.00234496],\n",
       "        [0.00254855]],\n",
       "\n",
       "       ...,\n",
       "\n",
       "       [[0.36657186],\n",
       "        [0.36647435],\n",
       "        [0.37475055],\n",
       "        ...,\n",
       "        [0.38795117],\n",
       "        [0.38952956],\n",
       "        [0.39248536]],\n",
       "\n",
       "       [[0.36647435],\n",
       "        [0.37475055],\n",
       "        [0.37760587],\n",
       "        ...,\n",
       "        [0.38952956],\n",
       "        [0.39248536],\n",
       "        [0.39632791]],\n",
       "\n",
       "       [[0.37475055],\n",
       "        [0.37760587],\n",
       "        [0.38312436],\n",
       "        ...,\n",
       "        [0.39248536],\n",
       "        [0.39632791],\n",
       "        [0.39859207]]])"
      ]
     },
     "execution_count": 12,
     "metadata": {},
     "output_type": "execute_result"
    }
   ],
   "source": [
    "X_train_data, y_train_data = [], []\n",
    "for i in range(60,len(train_data)):\n",
    "    X_train_data.append(scaled_data[i-60:i,0])\n",
    "    y_train_data.append(scaled_data[i,0])\n",
    "    \n",
    "X_train_data,y_train_data=np.array(X_train_data),np.array(y_train_data)\n",
    "X_train_data=np.reshape(X_train_data,(X_train_data.shape[0],X_train_data.shape[1],1))\n",
    "X_train_data"
   ]
  },
  {
   "cell_type": "code",
   "execution_count": 14,
   "id": "13d81c6f",
   "metadata": {},
   "outputs": [
    {
     "name": "stdout",
     "output_type": "stream",
     "text": [
      "3940/3940 - 39s - loss: 2.0690e-04 - 39s/epoch - 10ms/step\n"
     ]
    },
    {
     "data": {
      "text/plain": [
       "<keras.src.callbacks.History at 0x1fa52820690>"
      ]
     },
     "execution_count": 14,
     "metadata": {},
     "output_type": "execute_result"
    }
   ],
   "source": [
    "lstm_model = Sequential()\n",
    "lstm_model.add(LSTM(units=50, return_sequences=True, input_shape=(X_train_data.shape[1], 1)))\n",
    "lstm_model.add(LSTM(units=50))\n",
    "lstm_model.add(Dense(1))\n",
    "\n",
    "\n",
    "inputs_data = new_dataset[len(new_dataset) - len(test_data) - 60:].iloc[:, 1:].values\n",
    "inputs_data = inputs_data.reshape(-1, 1)\n",
    "inputs_data = scaler.fit_transform(inputs_data)\n",
    "\n",
    "lstm_model.compile(loss='mean_squared_error', optimizer = 'adam')\n",
    "lstm_model.fit(X_train_data,y_train_data, epochs=1, batch_size=1, verbose=2)"
   ]
  },
  {
   "cell_type": "code",
   "execution_count": 17,
   "id": "7ebf46a8",
   "metadata": {},
   "outputs": [
    {
     "name": "stdout",
     "output_type": "stream",
     "text": [
      "65/65 [==============================] - 1s 6ms/step\n"
     ]
    }
   ],
   "source": [
    "X_test=[]\n",
    "for i in range(60,inputs_data.shape[0]):\n",
    "    X_test.append(inputs_data[i-60:i,0])\n",
    "X_test=np.array(X_test)\n",
    "\n",
    "X_test=np.reshape(X_test,(X_test.shape[0],X_test.shape[1],1))\n",
    "predicted_closing_price=lstm_model.predict(X_test)\n",
    "predicted_closing_price=scaler.inverse_transform(predicted_closing_price)"
   ]
  },
  {
   "cell_type": "code",
   "execution_count": 18,
   "id": "441b0cf2",
   "metadata": {},
   "outputs": [
    {
     "data": {
      "text/plain": [
       "array([[137.36006],\n",
       "       [137.91702],\n",
       "       [138.62602],\n",
       "       ...,\n",
       "       [195.97136],\n",
       "       [198.34729],\n",
       "       [199.5831 ]], dtype=float32)"
      ]
     },
     "execution_count": 18,
     "metadata": {},
     "output_type": "execute_result"
    }
   ],
   "source": [
    "predicted_closing_price"
   ]
  },
  {
   "cell_type": "code",
   "execution_count": 19,
   "id": "1ba1407b",
   "metadata": {},
   "outputs": [
    {
     "name": "stderr",
     "output_type": "stream",
     "text": [
      "C:\\Users\\online\\AppData\\Local\\Temp\\ipykernel_4640\\809686405.py:3: SettingWithCopyWarning: \n",
      "A value is trying to be set on a copy of a slice from a DataFrame.\n",
      "Try using .loc[row_indexer,col_indexer] = value instead\n",
      "\n",
      "See the caveats in the documentation: https://pandas.pydata.org/pandas-docs/stable/user_guide/indexing.html#returning-a-view-versus-a-copy\n",
      "  test_data['Predictions'] = predicted_closing_price\n"
     ]
    },
    {
     "data": {
      "image/png": "[encoded data removed]",
      "text/plain": [
       "<Figure size 640x480 with 1 Axes>"
      ]
     },
     "metadata": {},
     "output_type": "display_data"
    }
   ],
   "source": [
    "train_data=new_dataset[:4000]\n",
    "test_data=new_dataset[4000:]\n",
    "test_data['Predictions'] = predicted_closing_price\n",
    "plt.plot(train_data['Close'], color='blue', label = 'Actual Stock Price')\n",
    "plt.plot(test_data[[ 'Close','Predictions']])\n",
    "plt.legend(['Train','Value','Predictions'],loc='upper left')\n",
    "plt.show()"
   ]
  },
  {
   "cell_type": "code",
   "execution_count": null,
   "id": "14c9238b",
   "metadata": {},
   "outputs": [],
   "source": []
  }
 ],
 "metadata": {
  "kernelspec": {
   "display_name": "Python 3 (ipykernel)",
   "language": "python",
   "name": "python3"
  },
  "language_info": {
   "codemirror_mode": {
    "name": "ipython",
    "version": 3
   },
   "file_extension": ".py",
   "mimetype": "text/x-python",
   "name": "python",
   "nbconvert_exporter": "python",
   "pygments_lexer": "ipython3",
   "version": "3.11.4"
  }
 },
 "nbformat": 4,
 "nbformat_minor": 5
}
